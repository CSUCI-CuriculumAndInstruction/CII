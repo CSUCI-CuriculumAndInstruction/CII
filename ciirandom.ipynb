{
  "nbformat": 4,
  "nbformat_minor": 0,
  "metadata": {
    "colab": {
      "name": "ciirandom.ipynb",
      "provenance": [],
      "collapsed_sections": [],
      "authorship_tag": "ABX9TyPx0FJjccbhw5QkJqfd3EB9",
      "include_colab_link": true
    },
    "kernelspec": {
      "name": "python3",
      "display_name": "Python 3"
    }
  },
  "cells": [
    {
      "cell_type": "markdown",
      "metadata": {
        "id": "view-in-github",
        "colab_type": "text"
      },
      "source": [
        "<a href=\"https://colab.research.google.com/github/CSUCI-CuriculumAndInstruction/CII/blob/main/ciirandom.ipynb\" target=\"_parent\"><img src=\"https://colab.research.google.com/assets/colab-badge.svg\" alt=\"Open In Colab\"/></a>"
      ]
    },
    {
      "cell_type": "markdown",
      "metadata": {
        "id": "SfS4UfDDYpMT"
      },
      "source": [
        "##Welcome to Schiro's Curriculum Ideologies Inventory. \n",
        "You may need to click the play button below to start."
      ]
    },
    {
      "cell_type": "code",
      "metadata": {
        "id": "SPcLEt8pGG2q"
      },
      "source": [
        "#@title Curriculum Ideologies Inventory { display-mode: \"form\" }\n",
        "import pandas as pd\n",
        "from collections import Counter\n",
        "from IPython.display import clear_output\n",
        "import random\n",
        "import textwrap\n",
        "import re\n",
        "from matplotlib import pyplot as plt\n",
        "\n",
        "questions = [[('Schools should provide children with the ability to perceive problems in society, envision a better society, and act to change society so that there is social justice and a better life for all people.', 'Social Efficiency'), \n",
        "('Schools should fulfill the needs of society by efficiently training youth to function as mature constructive members of society.', 'Social Reconstruction'),\n",
        "('Schools should be communities where the accumulated knowledge of the culture is transmitted to the youth.', 'Scholar Academic'),\n",
        "('Schools should be enjoyable, stimulating, child-Learner Centered environments organized around the developmental needs and interests of children as those needs and interests present themselves from day to day.', 'Learner Centered')], \n",
        "\n",
        "[('Teachers should be supervisors of student learning, utilizing instructional strategies that will optimize student learning.', 'Social Efficiency'), \n",
        "('Teachers should be companions to students, using the environment within which the student lives to help the student learn.', 'Social Reconstruction'),\n",
        "('Teachers should be aids to children, helping them learn by presenting them with experiences from which they can make meaning.', 'Scholar Academic'),\n",
        "('Teachers should be knowledgeable people, transmitting that which is known to those who do not know it.', 'Learner Centered')], \n",
        "\n",
        "[('Learning best proceeds when the student is presented with the appropriate stimulus materials and positive reinforcement.', 'Social Efficiency'), \n",
        "('Learning best proceeds when the teacher clearly and accurately presents to the student that knowledge which the student is to acquire.', 'Social Reconstruction'),\n",
        "('Learning best takes place when children are motivated to actively engage in experiences that allow them to create their own knowledge and understanding of the world in which they live.', 'Scholar Academic'),\n",
        "('Learning best occurs when a student confronts a real social crisis and participates in the construction of a solution to that crisis.', 'Learner Centered')], \n",
        "\n",
        "[('The knowledge of most worth is the structured knowledge and ways of thinking that have come to be valued by the culture over time.', 'Social Efficiency'), \n",
        "('The knowledge of most worth is the personal meaning of oneself and of one’s world that comes from one’s direct experience in the world and one’s personal response to such experience.', 'Social Reconstruction'),\n",
        "('The knowledge of most worth is the specific skills and capabilities for action that allow an individual to live a constructive life.', 'Scholar Academic'),\n",
        "('The knowledge of most worth is a set of social ideals, a commitment to those ideals, and an understanding of how to implement those ideals.', 'Learner Centered')], \n",
        "\n",
        "[('Childhood is essentially a time of learning in preparation for adulthood, when one will be a constructive, contributing member of society.', 'Social Efficiency'), \n",
        "('Childhood is essentially a period of intellectual development highlighted by growing reasoning ability and capacity for memory that results in ever greater absorption of cultural knowledge.', 'Social Reconstruction'),\n",
        "('Childhood is essentially a time when children unfold according to their own innate natures, felt needs, organic impulses, and internal timetables. The focus is on children as they are during childhood rather than as they might be as adults.', 'Scholar Academic'),\n",
        "('Childhood is essentially a time for practice in and preparation for acting upon society to improve both oneself and the nature of society.', 'Learner Centered')], \n",
        "\n",
        "[('Evaluation should objectively indicate to others whether or not students can or cannot perform specific skills. Its purpose is to certify students’ competence to perform specific tasks.', 'Social Efficiency'), \n",
        "('Evaluation should continuously diagnose children’s needs and growth so that further growth can be promoted by appropriate adjustment of their learning environment. It is primarily for the children’s benefit, not for comparing children with each other or measuring them against predetermined standards.', 'Social Reconstruction'),\n",
        "('Evaluation should be a subjective comparison of students’ performance with their capabilities. Its purpose is to indicate to both the students and others the extent to which they are living up to their capabilities.', 'Scholar Academic'),\n",
        "('Evaluation should objectively determine the amount of knowledge students have acquired. It allows students to be ranked from those with the greatest intellectual gain to those with the least.', 'Learner Centered')]]\n",
        "\n",
        "\n",
        "wrapper = textwrap.TextWrapper(width=80)\n",
        "\n",
        "\n",
        "def ask_part(answers):\n",
        "    random.shuffle(answers)\n",
        "    for letter, answer in zip('ABCD', answers):\n",
        "        print(f'{letter}.', wrapper.fill(text=answer[0]), end= '\\n\\n')\n",
        "    while True:\n",
        "        print(wrapper.fill(text='Enter the letter value for each statement ranked from most liked to least liked:'))\n",
        "        user_input = input()\n",
        "        part_rank = re.findall('[ABCD]', user_input.upper())\n",
        "        if sorted(part_rank) != list('ABCD'):\n",
        "            print(wrapper.fill(text='Invalid input! Please try again.'))\n",
        "        else:\n",
        "            return Counter({answers['ABCD'.index(c)][1]: i + 1 for i, c in enumerate(reversed(part_rank))})\n",
        "\n",
        "\n",
        "print(wrapper.fill(text='Read each of the following parts carefully. Then, rank each statement in order from most liked to least liked. This is not a test and there is no one right answer. Take your time.'))\n",
        "print('Press enter to move to the next section.')\n",
        "input()\n",
        "clear_output()\n",
        "\n",
        "total_score = Counter()\n",
        "df = pd.DataFrame(columns=['Part','Scholar Academic', 'Learner Centered', 'Social Efficiency', 'Social Reconstruction'])\n",
        "realms = ['Purpose', 'Teaching', 'Learning', 'Knowledge', 'Childhood', 'Evaluation']\n",
        "\n",
        "for i, part in enumerate(questions):\n",
        "    print(\"\\033[1m\" + f\"PART {i+1}\" + \"\\033[0m\")\n",
        "    response = ask_part(part)\n",
        "    total_score += response\n",
        "    df.at[str(i), 'Part'] = realms[i]\n",
        "    for key, value in response.items():\n",
        "        df.at[str(i), key] = value\n",
        "    clear_output() \n",
        "\n",
        "print('RESULTS', '-------', *[f'{key} = {value/len(questions): .2f}' for key, value in total_score.items()], sep = '\\n')\n",
        "\n",
        "x = df['Part']\n",
        "\n",
        "curriculums = ['Scholar Academic', 'Learner Centered', 'Social Efficiency', 'Social Reconstruction']\n",
        "\n",
        "for i, ideology in enumerate(curriculums):\n",
        "    plt.style.use('fivethirtyeight')\n",
        "    f = plt.figure(i+1)\n",
        "    f.set_figwidth(6.6)\n",
        "    f.set_figheight(2.25)\n",
        "    plt.ylim(0.5, 4.5)\n",
        "    plt.title(ideology)\n",
        "    plt.plot(x, df[ideology])\n",
        "    plt.ylabel('Score')\n",
        "\n",
        "\n",
        "plt.show()\n"
      ],
      "execution_count": null,
      "outputs": []
    }
  ]
}